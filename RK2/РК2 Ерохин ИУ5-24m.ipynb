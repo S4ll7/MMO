{
 "cells": [
  {
   "cell_type": "markdown",
   "metadata": {
    "id": "D0gLHeV-VaaQ"
   },
   "source": [
    "РК2 Ерохин И.А. ИУ5-24М\n",
    "\n",
    "##### Классификатор №1: KNeighborsClassifier\n",
    "##### Классификатор №2: Complement Naive Bayes - CNB\n"
   ]
  },
  {
   "cell_type": "code",
   "execution_count": 10,
   "metadata": {
    "executionInfo": {
     "elapsed": 233,
     "status": "ok",
     "timestamp": 1654045256817,
     "user": {
      "displayName": "иван ерохин",
      "userId": "04181101604716402997"
     },
     "user_tz": -180
    },
    "id": "vxKWCI1OVaaZ"
   },
   "outputs": [],
   "source": [
    "import numpy as np\n",
    "import pandas as pd\n",
    "from typing import Dict, Tuple\n",
    "from sklearn.feature_extraction.text import CountVectorizer, TfidfVectorizer\n",
    "from sklearn.model_selection import GridSearchCV, RandomizedSearchCV\n",
    "from sklearn.metrics import accuracy_score, balanced_accuracy_score\n",
    "from sklearn.metrics import precision_score, recall_score, f1_score, classification_report\n",
    "from sklearn.metrics import confusion_matrix\n",
    "from sklearn.model_selection import cross_val_score\n",
    "from sklearn.pipeline import Pipeline\n",
    "from sklearn.metrics import mean_absolute_error, mean_squared_error, mean_squared_log_error, median_absolute_error, r2_score \n",
    "from sklearn.metrics import roc_curve, roc_auc_score\n",
    "\n",
    "# from sklearn.naive_bayes import MultinomialNB\n",
    "# from sklearn.linear_model import LogisticRegression\n",
    "\n",
    "from sklearn.naive_bayes import ComplementNB\n",
    "from sklearn.neighbors import KNeighborsClassifier\n",
    "\n",
    "import seaborn as sns\n",
    "from collections import Counter\n",
    "from sklearn.datasets import fetch_20newsgroups\n",
    "import matplotlib.pyplot as plt\n",
    "\n",
    "%matplotlib inline \n",
    "sns.set(style=\"ticks\")"
   ]
  },
  {
   "cell_type": "code",
   "execution_count": 11,
   "metadata": {
    "executionInfo": {
     "elapsed": 310,
     "status": "ok",
     "timestamp": 1654045257375,
     "user": {
      "displayName": "иван ерохин",
      "userId": "04181101604716402997"
     },
     "user_tz": -180
    },
    "id": "96aP5uKyVaad"
   },
   "outputs": [],
   "source": [
    "categories = [\"rec.sport.hockey\", \"sci.electronics\", \"sci.med\"]\n",
    "newsgroups = fetch_20newsgroups(subset='train', categories=categories)\n",
    "data = newsgroups['data']"
   ]
  },
  {
   "cell_type": "code",
   "execution_count": 12,
   "metadata": {
    "executionInfo": {
     "elapsed": 11,
     "status": "ok",
     "timestamp": 1654045257377,
     "user": {
      "displayName": "иван ерохин",
      "userId": "04181101604716402997"
     },
     "user_tz": -180
    },
    "id": "X_59gnvFVaae"
   },
   "outputs": [],
   "source": [
    "def accuracy_score_for_classes(\n",
    "    y_true: np.ndarray, \n",
    "    y_pred: np.ndarray) -> Dict[int, float]:\n",
    "    \"\"\"\n",
    "    Вычисление метрики accuracy для каждого класса\n",
    "    y_true - истинные значения классов\n",
    "    y_pred - предсказанные значения классов\n",
    "    Возвращает словарь: ключ - метка класса, \n",
    "    значение - Accuracy для данного класса\n",
    "    \"\"\"\n",
    "    # Для удобства фильтрации сформируем Pandas DataFrame \n",
    "    d = {'t': y_true, 'p': y_pred}\n",
    "    df = pd.DataFrame(data=d)\n",
    "    # Метки классов\n",
    "    classes = np.unique(y_true)\n",
    "    # Результирующий словарь\n",
    "    res = dict()\n",
    "    # Перебор меток классов\n",
    "    for c in classes:\n",
    "        # отфильтруем данные, которые соответствуют \n",
    "        # текущей метке класса в истинных значениях\n",
    "        temp_data_flt = df[df['t']==c]\n",
    "        # расчет accuracy для заданной метки класса\n",
    "        temp_acc = accuracy_score(\n",
    "            temp_data_flt['t'].values, \n",
    "            temp_data_flt['p'].values)\n",
    "        # сохранение результата в словарь\n",
    "        res[c] = temp_acc\n",
    "    return res\n",
    "\n",
    "def print_accuracy_score_for_classes(\n",
    "    y_true: np.ndarray, \n",
    "    y_pred: np.ndarray):\n",
    "    \"\"\"\n",
    "    Вывод метрики accuracy для каждого класса\n",
    "    \"\"\"\n",
    "    accs = accuracy_score_for_classes(y_true, y_pred)\n",
    "    if len(accs)>0:\n",
    "        print('Метка \\t Accuracy')\n",
    "    for i in accs:\n",
    "        print('{} \\t {}'.format(i, accs[i]))"
   ]
  },
  {
   "cell_type": "code",
   "execution_count": 13,
   "metadata": {
    "colab": {
     "base_uri": "https://localhost:8080/"
    },
    "executionInfo": {
     "elapsed": 534,
     "status": "ok",
     "timestamp": 1654045257902,
     "user": {
      "displayName": "иван ерохин",
      "userId": "04181101604716402997"
     },
     "user_tz": -180
    },
    "id": "WmxCYC4qVaag",
    "outputId": "378a4868-566e-463d-fed5-25502f591000"
   },
   "outputs": [
    {
     "name": "stdout",
     "output_type": "stream",
     "text": [
      "Количество сформированных признаков - 29970\n"
     ]
    }
   ],
   "source": [
    "vocabVect = CountVectorizer()\n",
    "vocabVect.fit(data)\n",
    "corpusVocab = vocabVect.vocabulary_\n",
    "print('Количество сформированных признаков - {}'.format(len(corpusVocab)))"
   ]
  },
  {
   "cell_type": "code",
   "execution_count": 14,
   "metadata": {
    "colab": {
     "base_uri": "https://localhost:8080/"
    },
    "executionInfo": {
     "elapsed": 367,
     "status": "ok",
     "timestamp": 1654045258265,
     "user": {
      "displayName": "иван ерохин",
      "userId": "04181101604716402997"
     },
     "user_tz": -180
    },
    "id": "l5BTLEE4Vaah",
    "outputId": "43746275-c54b-4812-85a9-8a77201b0786"
   },
   "outputs": [
    {
     "name": "stdout",
     "output_type": "stream",
     "text": [
      "carl=7229\n",
      "sol1=25350\n",
      "gps=13433\n",
      "caltech=7081\n",
      "edu=10976\n",
      "lydick=17538\n",
      "subject=26157\n",
      "re=22713\n",
      "krillean=16582\n"
     ]
    }
   ],
   "source": [
    "for i in list(corpusVocab)[1:10]:\n",
    "    print('{}={}'.format(i, corpusVocab[i]))"
   ]
  },
  {
   "cell_type": "code",
   "execution_count": 15,
   "metadata": {
    "colab": {
     "base_uri": "https://localhost:8080/"
    },
    "executionInfo": {
     "elapsed": 258,
     "status": "ok",
     "timestamp": 1654045258516,
     "user": {
      "displayName": "иван ерохин",
      "userId": "04181101604716402997"
     },
     "user_tz": -180
    },
    "id": "kJpODr85Vaai",
    "outputId": "42edbf43-162e-4fa1-91a0-9dbf96d2489d"
   },
   "outputs": [
    {
     "data": {
      "text/plain": [
       "<1785x29970 sparse matrix of type '<class 'numpy.int64'>'\n",
       "\twith 266767 stored elements in Compressed Sparse Row format>"
      ]
     },
     "execution_count": 15,
     "metadata": {},
     "output_type": "execute_result"
    }
   ],
   "source": [
    "test_features = vocabVect.transform(data)\n",
    "test_features"
   ]
  },
  {
   "cell_type": "code",
   "execution_count": 16,
   "metadata": {
    "colab": {
     "base_uri": "https://localhost:8080/"
    },
    "executionInfo": {
     "elapsed": 13,
     "status": "ok",
     "timestamp": 1654045258517,
     "user": {
      "displayName": "иван ерохин",
      "userId": "04181101604716402997"
     },
     "user_tz": -180
    },
    "id": "0AeWEZS5Vaaj",
    "outputId": "6c383ab0-3cf4-4873-caaa-d5eb0415521b"
   },
   "outputs": [
    {
     "data": {
      "text/plain": [
       "29970"
      ]
     },
     "execution_count": 16,
     "metadata": {},
     "output_type": "execute_result"
    }
   ],
   "source": [
    "# Размер нулевой строки\n",
    "len(test_features.todense()[0].getA1())"
   ]
  },
  {
   "cell_type": "code",
   "execution_count": 17,
   "metadata": {
    "colab": {
     "base_uri": "https://localhost:8080/"
    },
    "executionInfo": {
     "elapsed": 386,
     "status": "ok",
     "timestamp": 1654045258896,
     "user": {
      "displayName": "иван ерохин",
      "userId": "04181101604716402997"
     },
     "user_tz": -180
    },
    "id": "JmhnT0o7Vaak",
    "outputId": "52e88c31-ef39-423a-bf64-39418eba164d"
   },
   "outputs": [
    {
     "name": "stderr",
     "output_type": "stream",
     "text": [
      "/usr/local/lib/python3.7/dist-packages/sklearn/utils/deprecation.py:87: FutureWarning: Function get_feature_names is deprecated; get_feature_names is deprecated in 1.0 and will be removed in 1.2. Please use get_feature_names_out instead.\n",
      "  warnings.warn(msg, category=FutureWarning)\n"
     ]
    },
    {
     "data": {
      "text/plain": [
       "['03756',\n",
       " '038',\n",
       " '04',\n",
       " '0400',\n",
       " '04046',\n",
       " '041505',\n",
       " '042',\n",
       " '042100',\n",
       " '043426',\n",
       " '0435',\n",
       " '043654',\n",
       " '044045',\n",
       " '044140',\n",
       " '044323',\n",
       " '044636',\n",
       " '045046',\n",
       " '0453',\n",
       " '0458',\n",
       " '047',\n",
       " '0483']"
      ]
     },
     "execution_count": 17,
     "metadata": {},
     "output_type": "execute_result"
    }
   ],
   "source": [
    "vocabVect.get_feature_names()[100:120]"
   ]
  },
  {
   "cell_type": "code",
   "execution_count": 18,
   "metadata": {
    "executionInfo": {
     "elapsed": 10,
     "status": "ok",
     "timestamp": 1654045258898,
     "user": {
      "displayName": "иван ерохин",
      "userId": "04181101604716402997"
     },
     "user_tz": -180
    },
    "id": "27YGlL7lVaal"
   },
   "outputs": [],
   "source": [
    "def VectorizeAndClassify(vectorizers_list, classifiers_list):\n",
    "    for v in vectorizers_list:\n",
    "        for c in classifiers_list:\n",
    "            pipeline1 = Pipeline([(\"vectorizer\", v), (\"classifier\", c)])\n",
    "            score = cross_val_score(pipeline1, newsgroups['data'], newsgroups['target'], scoring='accuracy', cv=3).mean()\n",
    "            print('Векторизация - {}'.format(v))\n",
    "            print('Модель для классификации - {}'.format(c))\n",
    "            print('Accuracy = {}'.format(score))\n",
    "            print('===========================')"
   ]
  },
  {
   "cell_type": "code",
   "execution_count": 19,
   "metadata": {
    "colab": {
     "base_uri": "https://localhost:8080/"
    },
    "executionInfo": {
     "elapsed": 13019,
     "status": "ok",
     "timestamp": 1654045271909,
     "user": {
      "displayName": "иван ерохин",
      "userId": "04181101604716402997"
     },
     "user_tz": -180
    },
    "id": "a_lGQcTCVaam",
    "outputId": "ec8ea7b9-42fb-4d14-ba88-98bf0a4826b4"
   },
   "outputs": [
    {
     "name": "stdout",
     "output_type": "stream",
     "text": [
      "Векторизация - CountVectorizer(vocabulary={'00': 0, '000': 1, '0000': 2, '0000001200': 3,\n",
      "                            '00014': 4, '000256': 5, '001': 6, '0010': 7,\n",
      "                            '001004': 8, '001323': 9, '001642': 10, '00309': 11,\n",
      "                            '003221': 12, '003258u19250': 13, '0033': 14,\n",
      "                            '003800': 15, '004021809': 16, '004158': 17,\n",
      "                            '004418': 18, '004627': 19, '005': 20, '00500': 21,\n",
      "                            '005148': 22, '005150': 23, '005512': 24,\n",
      "                            '0059': 25, '007': 26, '0078': 27, '008': 28,\n",
      "                            '008561': 29, ...})\n",
      "Модель для классификации - KNeighborsClassifier()\n",
      "Accuracy = 0.687955182072829\n",
      "===========================\n",
      "Векторизация - CountVectorizer(vocabulary={'00': 0, '000': 1, '0000': 2, '0000001200': 3,\n",
      "                            '00014': 4, '000256': 5, '001': 6, '0010': 7,\n",
      "                            '001004': 8, '001323': 9, '001642': 10, '00309': 11,\n",
      "                            '003221': 12, '003258u19250': 13, '0033': 14,\n",
      "                            '003800': 15, '004021809': 16, '004158': 17,\n",
      "                            '004418': 18, '004627': 19, '005': 20, '00500': 21,\n",
      "                            '005148': 22, '005150': 23, '005512': 24,\n",
      "                            '0059': 25, '007': 26, '0078': 27, '008': 28,\n",
      "                            '008561': 29, ...})\n",
      "Модель для классификации - ComplementNB()\n",
      "Accuracy = 0.984873949579832\n",
      "===========================\n",
      "Векторизация - TfidfVectorizer(vocabulary={'00': 0, '000': 1, '0000': 2, '0000001200': 3,\n",
      "                            '00014': 4, '000256': 5, '001': 6, '0010': 7,\n",
      "                            '001004': 8, '001323': 9, '001642': 10, '00309': 11,\n",
      "                            '003221': 12, '003258u19250': 13, '0033': 14,\n",
      "                            '003800': 15, '004021809': 16, '004158': 17,\n",
      "                            '004418': 18, '004627': 19, '005': 20, '00500': 21,\n",
      "                            '005148': 22, '005150': 23, '005512': 24,\n",
      "                            '0059': 25, '007': 26, '0078': 27, '008': 28,\n",
      "                            '008561': 29, ...})\n",
      "Модель для классификации - KNeighborsClassifier()\n",
      "Accuracy = 0.9198879551820728\n",
      "===========================\n",
      "Векторизация - TfidfVectorizer(vocabulary={'00': 0, '000': 1, '0000': 2, '0000001200': 3,\n",
      "                            '00014': 4, '000256': 5, '001': 6, '0010': 7,\n",
      "                            '001004': 8, '001323': 9, '001642': 10, '00309': 11,\n",
      "                            '003221': 12, '003258u19250': 13, '0033': 14,\n",
      "                            '003800': 15, '004021809': 16, '004158': 17,\n",
      "                            '004418': 18, '004627': 19, '005': 20, '00500': 21,\n",
      "                            '005148': 22, '005150': 23, '005512': 24,\n",
      "                            '0059': 25, '007': 26, '0078': 27, '008': 28,\n",
      "                            '008561': 29, ...})\n",
      "Модель для классификации - ComplementNB()\n",
      "Accuracy = 0.9815126050420169\n",
      "===========================\n"
     ]
    }
   ],
   "source": [
    "vectorizers_list = [CountVectorizer(vocabulary = corpusVocab), TfidfVectorizer(vocabulary = corpusVocab)]\n",
    "classifiers_list = [KNeighborsClassifier(), ComplementNB()]\n",
    "VectorizeAndClassify(vectorizers_list, classifiers_list)"
   ]
  },
  {
   "cell_type": "markdown",
   "metadata": {
    "id": "G7pTs5Q4Vaam"
   },
   "source": [
    "Наилучшие результаты показал CountVectorizer с классификатором Complement Naive Bayes - CNB (0.985) "
   ]
  }
 ],
 "metadata": {
  "colab": {
   "collapsed_sections": [],
   "name": "РК2 Ерохин ИУ5-24m.ipynb",
   "provenance": []
  },
  "kernelspec": {
   "display_name": "Python 3",
   "language": "python",
   "name": "python3"
  },
  "language_info": {
   "codemirror_mode": {
    "name": "ipython",
    "version": 3
   },
   "file_extension": ".py",
   "mimetype": "text/x-python",
   "name": "python",
   "nbconvert_exporter": "python",
   "pygments_lexer": "ipython3",
   "version": "3.6.6"
  }
 },
 "nbformat": 4,
 "nbformat_minor": 1
}
